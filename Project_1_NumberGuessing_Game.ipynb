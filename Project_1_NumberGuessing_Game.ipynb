{
 "cells": [
  {
   "cell_type": "code",
   "execution_count": 10,
   "id": "5ab33846",
   "metadata": {},
   "outputs": [],
   "source": [
    "import random #import random module which allows us to generate random numbers.\n"
   ]
  },
  {
   "cell_type": "code",
   "execution_count": 14,
   "id": "86485e30",
   "metadata": {},
   "outputs": [
    {
     "name": "stdout",
     "output_type": "stream",
     "text": [
      "Guess a number between 1 and 10:5\n",
      "Too low!\n",
      "Guess a number between 1 and 10:2\n",
      "Too low!\n",
      "Guess a number between 1 and 10:5\n",
      "Too low!\n",
      "Guess a number between 1 and 10:6\n",
      "Congratulations! You guessed the number in 4 attempts.\n"
     ]
    }
   ],
   "source": [
    "def guess_number():# it is a function named guess_number that encapsulate the logic of guessing number game.\n",
    "    secret_number = random.randint(1, 10) #it generate random number between 1 and 10 using randint\n",
    "    attempts = 0 # inititalize the variable attempts to keep track of number\n",
    "    while True:\n",
    "        guess = int (input(\"Guess a number between 1 and 10:\"))\n",
    "        attempts +=1\n",
    "        if guess < secret_number:\n",
    "            print(\"Too low!\")\n",
    "        elif guess > secret_number:\n",
    "            print(\"Too High!\")\n",
    "        else:\n",
    "            print(f\"Congratulations! You guessed the number in {attempts} attempts.\")\n",
    "            break\n",
    "guess_number()\n",
    "    \n",
    "    \n",
    "    \n",
    "    \n",
    "    "
   ]
  },
  {
   "cell_type": "code",
   "execution_count": null,
   "id": "fed33b3b",
   "metadata": {},
   "outputs": [],
   "source": []
  }
 ],
 "metadata": {
  "kernelspec": {
   "display_name": "Python 3 (ipykernel)",
   "language": "python",
   "name": "python3"
  },
  "language_info": {
   "codemirror_mode": {
    "name": "ipython",
    "version": 3
   },
   "file_extension": ".py",
   "mimetype": "text/x-python",
   "name": "python",
   "nbconvert_exporter": "python",
   "pygments_lexer": "ipython3",
   "version": "3.9.7"
  }
 },
 "nbformat": 4,
 "nbformat_minor": 5
}
